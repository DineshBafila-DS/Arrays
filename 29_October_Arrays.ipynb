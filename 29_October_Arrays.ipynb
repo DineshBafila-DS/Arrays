{
 "cells": [
  {
   "cell_type": "markdown",
   "id": "ed1d20e8",
   "metadata": {},
   "source": [
    "#### 1. Given an array, check if it contains any duplicates or not."
   ]
  },
  {
   "cell_type": "code",
   "execution_count": 4,
   "id": "8b2d9afe",
   "metadata": {},
   "outputs": [
    {
     "name": "stdout",
     "output_type": "stream",
     "text": [
      "It Doesnt conists duplicate\n"
     ]
    }
   ],
   "source": [
    "arr = [1, 2, 4, 2, 5, 9]\n",
    "b=set(arr)\n",
    "if(len(arr)==len(b)):\n",
    "    print(\"It Doesnt conists duplicate\")\n",
    "else:\n",
    "    print(\"Yes The array Consist duplicate element\")"
   ]
  },
  {
   "cell_type": "markdown",
   "id": "fbee1034",
   "metadata": {},
   "source": [
    "#### 2.Given an array and an integer k, rotate the array to the right by k steps.\n",
    "arr = [1, 2, 3, 4, 5, 6, 7] k = 3\n",
    "Output = [5, 6, 7, 1, 2, 3, 4]"
   ]
  },
  {
   "cell_type": "code",
   "execution_count": 8,
   "id": "1c7401f7",
   "metadata": {},
   "outputs": [
    {
     "name": "stdout",
     "output_type": "stream",
     "text": [
      "[5, 6, 7, 1, 2, 3, 4]\n"
     ]
    }
   ],
   "source": [
    "def rotate_array(arr, k):\n",
    "    n = len(arr)\n",
    "    \n",
    "    # Calculate the effective rotation index\n",
    "    k = k % n\n",
    "    \n",
    "    # Rotate the array using slicing\n",
    "    rotated_array = arr[-k:] + arr[:-k]\n",
    "    \n",
    "    return rotated_array\n",
    "\n",
    "# Example usage\n",
    "arr = [1, 2, 3, 4, 5, 6, 7]\n",
    "k = 3\n",
    "result = rotate_array(arr, k)\n",
    "\n",
    "print(result)\n"
   ]
  },
  {
   "cell_type": "markdown",
   "id": "9a249f58",
   "metadata": {},
   "source": [
    "#### 3. Reverse the given array in-place, means without using any extra data structure.\n",
    "arr = [2, 4, 5, 7, 9, 12]\n",
    "Output = [12, 9, 7, 5, 4, 2]"
   ]
  },
  {
   "cell_type": "code",
   "execution_count": 11,
   "id": "5474d66c",
   "metadata": {},
   "outputs": [
    {
     "name": "stdout",
     "output_type": "stream",
     "text": [
      "[12, 9, 7, 5, 4, 2]\n"
     ]
    }
   ],
   "source": [
    "arr=[2,4,5,7,9,12]\n",
    "print(arr[::-1])"
   ]
  },
  {
   "cell_type": "markdown",
   "id": "b80a2e2d",
   "metadata": {},
   "source": [
    "#### 4. Given an array of integers, find the maximum element in an array\n",
    "\n",
    "arr = [10, 5, 20, 8, 15]\n",
    "\n",
    "Output = 20"
   ]
  },
  {
   "cell_type": "code",
   "execution_count": 22,
   "id": "bd15f4a6",
   "metadata": {},
   "outputs": [
    {
     "name": "stdout",
     "output_type": "stream",
     "text": [
      "20\n"
     ]
    }
   ],
   "source": [
    "arr=[10,5,20,8,15]\n",
    "max=arr[0]\n",
    "for i in arr:\n",
    "    if(max<i):\n",
    "        max=i\n",
    "    else:\n",
    "        continue\n",
    "print(max)"
   ]
  },
  {
   "cell_type": "markdown",
   "id": "a216a03f",
   "metadata": {},
   "source": [
    "#### 5. Given a sorted array, remove the duplicate element without using any extra data structure.\n",
    "arr = [1, 1, 2, 2, 2, 3, 3, 4, 4, 4, 5, 5]\n",
    "Output = [1, 2, 3, 4, 5]"
   ]
  },
  {
   "cell_type": "code",
   "execution_count": 31,
   "id": "64c21a0d",
   "metadata": {},
   "outputs": [
    {
     "name": "stdout",
     "output_type": "stream",
     "text": [
      "[1, 2, 3, 4, 5]\n"
     ]
    }
   ],
   "source": [
    "def remove_duplicates(arr):\n",
    "    if not arr:\n",
    "        return []\n",
    "\n",
    "    # Initialize index to store the position of the next non-duplicate element\n",
    "    index = 1\n",
    "\n",
    "    # Iterate through the array starting from the second element\n",
    "    for i in range(1, len(arr)):\n",
    "        # If the current element is not equal to the previous one, update the array\n",
    "        if arr[i] != arr[i - 1]:\n",
    "            arr[index] = arr[i]\n",
    "            index += 1\n",
    "\n",
    "    # Trim the array to remove any remaining elements\n",
    "    arr = arr[:index]\n",
    "\n",
    "    return arr\n",
    "\n",
    "# Example usage\n",
    "arr = [1, 1, 2, 2, 2, 3, 3, 4, 4, 4, 5, 5]\n",
    "result = remove_duplicates(arr)\n",
    "\n",
    "print(result)\n"
   ]
  },
  {
   "cell_type": "code",
   "execution_count": null,
   "id": "0feeeb25",
   "metadata": {},
   "outputs": [],
   "source": []
  }
 ],
 "metadata": {
  "kernelspec": {
   "display_name": "Python 3 (ipykernel)",
   "language": "python",
   "name": "python3"
  },
  "language_info": {
   "codemirror_mode": {
    "name": "ipython",
    "version": 3
   },
   "file_extension": ".py",
   "mimetype": "text/x-python",
   "name": "python",
   "nbconvert_exporter": "python",
   "pygments_lexer": "ipython3",
   "version": "3.9.13"
  }
 },
 "nbformat": 4,
 "nbformat_minor": 5
}
